{
 "cells": [
  {
   "cell_type": "code",
   "execution_count": 1,
   "metadata": {},
   "outputs": [],
   "source": [
    "import pandas as pd\n",
    "import numpy as np\n",
    "from sklearn import linear_model\n",
    "from sklearn import metrics\n",
    "import sys\n",
    "if sys.version_info[0] < 3: \n",
    "    from StringIO import StringIO\n",
    "else:\n",
    "    from io import StringIO"
   ]
  },
  {
   "cell_type": "code",
   "execution_count": 2,
   "metadata": {},
   "outputs": [
    {
     "data": {
      "text/html": [
       "<div>\n",
       "<style scoped>\n",
       "    .dataframe tbody tr th:only-of-type {\n",
       "        vertical-align: middle;\n",
       "    }\n",
       "\n",
       "    .dataframe tbody tr th {\n",
       "        vertical-align: top;\n",
       "    }\n",
       "\n",
       "    .dataframe thead th {\n",
       "        text-align: right;\n",
       "    }\n",
       "</style>\n",
       "<table border=\"1\" class=\"dataframe\">\n",
       "  <thead>\n",
       "    <tr style=\"text-align: right;\">\n",
       "      <th></th>\n",
       "      <th>Timestamp</th>\n",
       "      <th>ID</th>\n",
       "      <th>Temperature(celsius)</th>\n",
       "      <th>Target_Temperature(celsius)</th>\n",
       "      <th>Amp</th>\n",
       "      <th>CumulativePowerConsumption</th>\n",
       "      <th>ContentType</th>\n",
       "      <th>Humidity</th>\n",
       "      <th>CO2</th>\n",
       "      <th>Door_Open</th>\n",
       "      <th>Maintainence_Required</th>\n",
       "      <th>Defrost_Cycle</th>\n",
       "    </tr>\n",
       "  </thead>\n",
       "  <tbody>\n",
       "    <tr>\n",
       "      <th>0</th>\n",
       "      <td>-f</td>\n",
       "      <td>NaN</td>\n",
       "      <td>NaN</td>\n",
       "      <td>NaN</td>\n",
       "      <td>NaN</td>\n",
       "      <td>NaN</td>\n",
       "      <td>NaN</td>\n",
       "      <td>NaN</td>\n",
       "      <td>NaN</td>\n",
       "      <td>NaN</td>\n",
       "      <td>NaN</td>\n",
       "      <td>NaN</td>\n",
       "    </tr>\n",
       "  </tbody>\n",
       "</table>\n",
       "</div>"
      ],
      "text/plain": [
       "  Timestamp  ID  Temperature(celsius)  Target_Temperature(celsius)  Amp  \\\n",
       "0        -f NaN                   NaN                          NaN  NaN   \n",
       "\n",
       "   CumulativePowerConsumption  ContentType  Humidity  CO2  Door_Open  \\\n",
       "0                         NaN          NaN       NaN  NaN        NaN   \n",
       "\n",
       "   Maintainence_Required  Defrost_Cycle  \n",
       "0                    NaN            NaN  "
      ]
     },
     "execution_count": 2,
     "metadata": {},
     "output_type": "execute_result"
    }
   ],
   "source": [
    "DATA=\"\"\"Timestamp, ID, Temperature(celsius), Target_Temperature(celsius), Amp, CumulativePowerConsumption, ContentType, Humidity, CO2, Door_Open, Maintainence_Required, Defrost_Cycle\"\"\"+\"\\n\"+sys.argv[1]\n",
    "    \n",
    "print 'DATA: ', DATA\n",
    "TESTDATA = StringIO(DATA)\n",
    "#data = '2019-04-01 T16:29 Z,1813,4.291843460900875,4.4,2.870278314651876,10.273342381017777,3,4334.920958996634,4.9631508046318755,1,0,6'\n",
    "#data = pd.read_csv('../data/container_matrix_test.csv', delimiter=\",\")\n",
    "data = pd.read_csv(TESTDATA, sep=\",\")\n",
    "data.columns = data.columns.to_series().apply(lambda x: x.strip())\n",
    "data.head()"
   ]
  },
  {
   "cell_type": "code",
   "execution_count": 3,
   "metadata": {},
   "outputs": [
    {
     "name": "stdout",
     "output_type": "stream",
     "text": [
      "X is:     Temperature(celsius)  CumulativePowerConsumption  Humidity\n",
      "0                   NaN                         NaN       NaN\n"
     ]
    }
   ],
   "source": [
    "# create a Python list of feature names\n",
    "feature_cols = ['Temperature(celsius)', 'Door_Open','Target_Temperature(celsius)','Amp','ContentType','CumulativePowerConsumption'\n",
    "                          ,'Humidity','CO2','Defrost_Cycle']\n",
    "\n",
    "# use the list to select a subset of the original DataFrame\n",
    "X = data[feature_cols]\n",
    "print 'X is: ', X\n",
    "y = data['Maintainence_Required']\n",
    "\n",
    "# print the first 5 rows\n"
   ]
  },
  {
   "cell_type": "code",
   "execution_count": 12,
   "metadata": {},
   "outputs": [],
   "source": [
    "import pickle\n",
    "\n",
    "#loading a model from a file called model.pkl\n",
    "model = pickle.load(open(\"model.pkl\",\"r\"))\n"
   ]
  },
  {
   "cell_type": "code",
   "execution_count": 9,
   "metadata": {},
   "outputs": [
    {
     "name": "stdout",
     "output_type": "stream",
     "text": [
      "[0.51762173 0.50397229 0.50158596 ... 0.50863615 0.46905965 0.52664962]\n",
      "0.500582504885684\n"
     ]
    }
   ],
   "source": [
    "# make predictions on the input set\n",
    "print 'X is: ', X\n",
    "y_pred = model.predict(X)\n",
    "print 'prediction is:', y_pred\n",
    "#y_pred.shape\n",
    "#print(np.sqrt(metrics.mean_squared_error(y, y_pred)))"
   ]
  }
 ],
 "metadata": {
  "kernelspec": {
   "display_name": "Python 2",
   "language": "python",
   "name": "python2"
  },
  "language_info": {
   "codemirror_mode": {
    "name": "ipython",
    "version": 2
   },
   "file_extension": ".py",
   "mimetype": "text/x-python",
   "name": "python",
   "nbconvert_exporter": "python",
   "pygments_lexer": "ipython2",
   "version": "2.7.15"
  }
 },
 "nbformat": 4,
 "nbformat_minor": 2
}
